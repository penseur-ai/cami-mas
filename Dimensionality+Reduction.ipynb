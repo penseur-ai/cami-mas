{
 "cells": [
  {
   "cell_type": "code",
   "execution_count": 1,
   "metadata": {
    "collapsed": true
   },
   "outputs": [],
   "source": [
    "import sys\n",
    "import numpy as np\n",
    "from scipy.sparse import *"
   ]
  },
  {
   "cell_type": "markdown",
   "metadata": {},
   "source": [
    "## Examples\n",
    "SDR Matrix\n",
    "\n",
    "    { 0: array([1, 0, 0, 0, 0, 0, 0, 0, 0, 0, 0, 0, 0, 0, 0, 0, 0, 0, 0, 0, 0], dtype=int8),\n",
    "      1: array([1, 1, 0, 0, 0, 0, 0, 0, 0, 0, 0, 0, 0, 0, 0, 0, 0, 0, 0, 0, 0], dtype=int8),\n",
    "      2: array([1, 0, 1, 0, 0, 0, 0, 0, 0, 0, 0, 0, 0, 0, 0, 0, 0, 0, 0, 0, 0], dtype=int8),\n",
    "      3: array([1, 1, 0, 1, 0, 0, 0, 0, 0, 0, 0, 0, 0, 0, 0, 0, 0, 0, 0, 0, 0], dtype=int8),\n",
    "      4: array([1, 1, 0, 0, 1, 0, 0, 0, 0, 0, 0, 0, 0, 0, 0, 0, 0, 0, 0, 0, 0], dtype=int8),\n",
    "      5: array([1, 1, 0, 0, 1, 1, 0, 0, 0, 0, 0, 0, 0, 0, 0, 0, 0, 0, 0, 0, 0], dtype=int8),\n",
    "      6: array([1, 1, 0, 0, 1, 1, 1, 0, 0, 0, 0, 0, 0, 0, 0, 0, 0, 0, 0, 0, 0], dtype=int8),\n",
    "      7: array([1, 1, 0, 0, 1, 1, 0, 1, 0, 0, 0, 0, 0, 0, 0, 0, 0, 0, 0, 0, 0], dtype=int8),\n",
    "      8: array([1, 1, 0, 0, 1, 1, 0, 1, 1, 0, 0, 0, 0, 0, 0, 0, 0, 0, 0, 0, 0], dtype=int8),\n",
    "      9: array([1, 1, 0, 0, 1, 1, 0, 1, 1, 1, 0, 0, 0, 0, 0, 0, 0, 0, 0, 0, 0], dtype=int8),\n",
    "     10: array([1, 1, 0, 0, 1, 1, 0, 1, 1, 0, 1, 0, 0, 0, 0, 0, 0, 0, 0, 0, 0], dtype=int8),\n",
    "     11: array([1, 1, 0, 0, 1, 1, 0, 1, 1, 0, 0, 1, 0, 0, 0, 0, 0, 0, 0, 0, 0], dtype=int8),\n",
    "     12: array([1, 1, 0, 0, 1, 1, 0, 1, 1, 0, 0, 0, 1, 0, 0, 0, 0, 0, 0, 0, 0], dtype=int8),\n",
    "     13: array([1, 1, 0, 0, 1, 1, 0, 1, 0, 0, 0, 0, 0, 1, 0, 0, 0, 0, 0, 0, 0], dtype=int8),\n",
    "     14: array([1, 1, 0, 0, 1, 1, 0, 1, 0, 0, 0, 0, 0, 0, 1, 0, 0, 0, 0, 0, 0], dtype=int8),\n",
    "     15: array([1, 1, 0, 0, 1, 1, 0, 1, 1, 0, 0, 0, 0, 0, 0, 1, 0, 0, 0, 0, 0], dtype=int8),\n",
    "     16: array([1, 1, 0, 0, 0, 0, 0, 0, 0, 0, 0, 0, 0, 0, 0, 0, 1, 0, 0, 0, 0], dtype=int8),\n",
    "     17: array([1, 1, 0, 0, 1, 1, 0, 1, 1, 0, 0, 0, 0, 0, 0, 0, 1, 1, 0, 0, 0], dtype=int8),\n",
    "     18: array([1, 1, 0, 0, 1, 1, 0, 1, 1, 0, 0, 0, 0, 0, 0, 0, 0, 0, 1, 0, 0], dtype=int8),\n",
    "     19: array([1, 1, 0, 0, 1, 1, 0, 1, 1, 0, 0, 0, 0, 0, 0, 0, 0, 0, 0, 1, 0], dtype=int8),\n",
    "     20: array([0, 0, 0, 0, 0, 0, 0, 0, 0, 0, 0, 0, 0, 0, 0, 0, 0, 0, 0, 0, 1], dtype=int8)}\n",
    "\n",
    "Features & Leaves\n",
    "\n",
    "    features = [0, 20]\n",
    "    leaves = [2, 3, 6, 9, 10, 11, 12, 13, 14, 15, 17, 18, 19, 20]\n",
    "\n",
    "\n",
    "Feature to Delete\n",
    "\n",
    "    [20,:] = 0\n",
    "\n",
    "Feature to Change\n",
    "\n",
    "    [0,0] = 0\n",
    "    [0,[1,2]] = 1\n",
    "    [Any row with 1 in column 0, [1,2]] = 1\n",
    "    [:,0] = 0\n",
    "    \n",
    "Modified SDR Matrix\n",
    "\n",
    "    { 0: array([0, 1, 1, 0, 0, 0, 0, 0, 0, 0, 0, 0, 0, 0, 0, 0, 0, 0, 0, 0, 0], dtype=int8),\n",
    "      1: array([0, 1, 0, 0, 0, 0, 0, 0, 0, 0, 0, 0, 0, 0, 0, 0, 0, 0, 0, 0, 0], dtype=int8),\n",
    "      2: array([0, 0, 1, 0, 0, 0, 0, 0, 0, 0, 0, 0, 0, 0, 0, 0, 0, 0, 0, 0, 0], dtype=int8),\n",
    "      3: array([0, 1, 0, 1, 0, 0, 0, 0, 0, 0, 0, 0, 0, 0, 0, 0, 0, 0, 0, 0, 0], dtype=int8),\n",
    "      4: array([0, 1, 0, 0, 1, 0, 0, 0, 0, 0, 0, 0, 0, 0, 0, 0, 0, 0, 0, 0, 0], dtype=int8),\n",
    "      5: array([0, 1, 0, 0, 1, 1, 0, 0, 0, 0, 0, 0, 0, 0, 0, 0, 0, 0, 0, 0, 0], dtype=int8),\n",
    "      6: array([0, 1, 0, 0, 1, 1, 1, 0, 0, 0, 0, 0, 0, 0, 0, 0, 0, 0, 0, 0, 0], dtype=int8),\n",
    "      7: array([0, 1, 0, 0, 1, 1, 0, 1, 0, 0, 0, 0, 0, 0, 0, 0, 0, 0, 0, 0, 0], dtype=int8),\n",
    "      8: array([0, 1, 0, 0, 1, 1, 0, 1, 1, 0, 0, 0, 0, 0, 0, 0, 0, 0, 0, 0, 0], dtype=int8),\n",
    "      9: array([0, 1, 0, 0, 1, 1, 0, 1, 1, 1, 0, 0, 0, 0, 0, 0, 0, 0, 0, 0, 0], dtype=int8),\n",
    "     10: array([0, 1, 0, 0, 1, 1, 0, 1, 1, 0, 1, 0, 0, 0, 0, 0, 0, 0, 0, 0, 0], dtype=int8),\n",
    "     11: array([0, 1, 0, 0, 1, 1, 0, 1, 1, 0, 0, 1, 0, 0, 0, 0, 0, 0, 0, 0, 0], dtype=int8),\n",
    "     12: array([0, 1, 0, 0, 1, 1, 0, 1, 1, 0, 0, 0, 1, 0, 0, 0, 0, 0, 0, 0, 0], dtype=int8),\n",
    "     13: array([0, 1, 0, 0, 1, 1, 0, 1, 0, 0, 0, 0, 0, 1, 0, 0, 0, 0, 0, 0, 0], dtype=int8),\n",
    "     14: array([0, 1, 0, 0, 1, 1, 0, 1, 0, 0, 0, 0, 0, 0, 1, 0, 0, 0, 0, 0, 0], dtype=int8),\n",
    "     15: array([0, 1, 0, 0, 1, 1, 0, 1, 1, 0, 0, 0, 0, 0, 0, 1, 0, 0, 0, 0, 0], dtype=int8),\n",
    "     16: array([0, 1, 0, 0, 0, 0, 0, 0, 0, 0, 0, 0, 0, 0, 0, 0, 1, 0, 0, 0, 0], dtype=int8),\n",
    "     17: array([0, 1, 0, 0, 1, 1, 0, 1, 1, 0, 0, 0, 0, 0, 0, 0, 1, 1, 0, 0, 0], dtype=int8),\n",
    "     18: array([0, 1, 0, 0, 1, 1, 0, 1, 1, 0, 0, 0, 0, 0, 0, 0, 0, 0, 1, 0, 0], dtype=int8),\n",
    "     19: array([0, 1, 0, 0, 1, 1, 0, 1, 1, 0, 0, 0, 0, 0, 0, 0, 0, 0, 0, 1, 0], dtype=int8),\n",
    "     20: array([0, 0, 0, 0, 0, 0, 0, 0, 0, 0, 0, 0, 0, 0, 0, 0, 0, 0, 0, 0, 0], dtype=int8)}\n",
    "     \n",
    "Features & Leaves\n",
    "\n",
    "    features = [1, 2]\n",
    "    leaves = [3, 6, 9, 10, 11, 12, 13, 14, 15, 17, 18, 19]\n",
    "    \n",
    "Features to Change\n",
    "\n",
    "    nearest neighbors 1: [...]\n",
    "    nearest neighbors 2: [...]\n",
    "\n",
    "    [1,1] = 0\n",
    "    [1,[...]] = 1\n",
    "    [Any row with 1 in column 1, [...]] = 1\n",
    "    [:,1] = 0\n",
    "    \n",
    "    Repeat for 2\n",
    "    \n"
   ]
  },
  {
   "cell_type": "code",
   "execution_count": 2,
   "metadata": {
    "collapsed": true
   },
   "outputs": [],
   "source": [
    "def load_original():\n",
    "    rows = np.fromfile('./rows', dtype=np.uint32)\n",
    "    cols = np.fromfile('./cols', dtype=np.uint32)\n",
    "    sdrs = coo_matrix((np.ones(len(rows), dtype=np.int8), (rows, cols-1)), shape=(117791,117791))\n",
    "    return sdrs\n",
    "\n",
    "def get_features_leaves(sdrs):\n",
    "    \"\"\"\n",
    "    Find features and leaves of SDR matrix\n",
    "    :param sdrs: sparse matrix (See scipy.sparse)\n",
    "    :return: (tuple) indices of features, indices of leaves\n",
    "    \"\"\"\n",
    "    lengths = sdrs.sum(axis=1).getA1()\n",
    "    counts = sdrs.sum(axis=0).getA1()\n",
    "    features = np.argwhere(lengths==1).flatten()\n",
    "    leaves = np.argwhere(counts==1).flatten()\n",
    "    return features,leaves\n",
    "\n",
    "def load_distances(shape):\n",
    "    \"\"\"\n",
    "    Load distances from file\n",
    "    :param shape: tuple for shape of distance matrix\n",
    "    :return: ndarray of distances with specified shape\n",
    "    \"\"\"\n",
    "    # Assert parameter type\n",
    "    distances = np.fromfile('./distances.bin',dtype=np.float64)\n",
    "    return distances.reshape(shape)"
   ]
  },
  {
   "cell_type": "code",
   "execution_count": 3,
   "metadata": {
    "collapsed": true
   },
   "outputs": [],
   "source": [
    "sdrs = load_original()\n",
    "features,leaves = get_features_leaves(sdrs)"
   ]
  },
  {
   "cell_type": "code",
   "execution_count": 7,
   "metadata": {
    "collapsed": false
   },
   "outputs": [
    {
     "name": "stdout",
     "output_type": "stream",
     "text": [
      "0 features to delete\n"
     ]
    }
   ],
   "source": [
    "todelete = np.array(list(set(features).intersection(leaves)))\n",
    "print(len(todelete), \"features to delete\")"
   ]
  },
  {
   "cell_type": "code",
   "execution_count": 5,
   "metadata": {
    "collapsed": false
   },
   "outputs": [],
   "source": [
    "sdrs = sdrs.toarray()\n",
    "col_map = {x: x for x in range(117791)}\n",
    "for index in todelete:\n",
    "    sdrs[index,index] = 0\n",
    "    col_map[index] = None\n",
    "sdrs = coo_matrix(sdrs)\n",
    "features,leaves = get_features_leaves(sdrs)"
   ]
  },
  {
   "cell_type": "code",
   "execution_count": 9,
   "metadata": {
    "collapsed": false
   },
   "outputs": [
    {
     "name": "stdout",
     "output_type": "stream",
     "text": [
      "109 features to change\n"
     ]
    }
   ],
   "source": [
    "tochange = np.array(list(set(features).difference(todelete)))\n",
    "print(len(tochange), \"features to change\")\n",
    "tochange.astype(np.uint32).tofile('./tochange.bin')\n",
    "sdrs.row.tofile('./rows.bin')\n",
    "sdrs.col.tofile('./cols.bin')"
   ]
  },
  {
   "cell_type": "code",
   "execution_count": 18,
   "metadata": {
    "collapsed": false
   },
   "outputs": [],
   "source": [
    "dmatrix = load_distances((-1,117791))\n",
    "dmatrix[dmatrix == 0.0] = 10.0"
   ]
  },
  {
   "cell_type": "code",
   "execution_count": 34,
   "metadata": {
    "collapsed": false,
    "scrolled": false
   },
   "outputs": [],
   "source": [
    "sdrs = sdrs.toarray()\n",
    "for i in range(dmatrix.shape[0]):\n",
    "    index = tochange[i]\n",
    "    # Find nearest neighbors\n",
    "    distances = dmatrix[i,:]\n",
    "    minimum = np.min(distances)\n",
    "    mapping = np.argwhere(distances == minimum).flatten()\n",
    "    # Update SDR\n",
    "    sdrs[index,index] = 0\n",
    "    sdrs[index,mapping] = 1\n",
    "    col_map[index] = mapping\n",
    "    # Update SDRs using index as feature\n",
    "    r = np.argwhere(sdrs[:,index] == 1).flatten()\n",
    "    for row in r:\n",
    "        sdrs[row,mapping] = 1\n",
    "    # Remove index as feature\n",
    "    sdrs[:,index] = 0\n",
    "    \n",
    "sdrs = coo_matrix(sdrs)\n",
    "features,leaves = get_features_leaves(sdrs)"
   ]
  },
  {
   "cell_type": "code",
   "execution_count": 49,
   "metadata": {
    "collapsed": false
   },
   "outputs": [
    {
     "name": "stdout",
     "output_type": "stream",
     "text": [
      "0 features to delete\n",
      "2 features to change\n",
      "[95269 95270]\n"
     ]
    }
   ],
   "source": [
    "todelete = np.array(list(set(features).intersection(leaves)))\n",
    "print(len(todelete), \"features to delete\")\n",
    "tochange = np.array(list(set(features).difference(todelete)))\n",
    "print(len(tochange), \"features to change\")\n",
    "print(tochange)"
   ]
  },
  {
   "cell_type": "code",
   "execution_count": 50,
   "metadata": {
    "collapsed": false
   },
   "outputs": [],
   "source": [
    "\"\"\"\n",
    "Manually change; currently 95269 maps to 95270\n",
    "Remap 95270 and map 95269 to 95270's mapping\n",
    "\"\"\"\n",
    "def computeDistance(a, b):\n",
    "    \"\"\"\n",
    "    Compue distance between two numpy arrays\n",
    "    :param a: numpy array\n",
    "    :param b: numpy array\n",
    "    :return: (float) distance\n",
    "    \"\"\"\n",
    "    assert len(a) == len(b), 'Arrays must be same length'\n",
    "    \n",
    "    top = np.sum(np.abs(a-b)) ** 2\n",
    "    bottom = np.sum(np.logical_or(a,b)) * max(a.sum(),b.sum())\n",
    "    return float(top) / bottom\n",
    "\n",
    "sdrs = sdrs.toarray()\n",
    "# Compute dmatrix\n",
    "distances = []\n",
    "a = sdrs[95270,:]\n",
    "for i in range(117791):\n",
    "    b = sdrs[i,:]\n",
    "    distances.append(computeDistance(a,b))\n",
    "distances = np.array(distances)\n",
    "# Find nearest neighbors\n",
    "distances[distances == 0] = 10.0\n",
    "minimum = np.min(distances)\n",
    "mapping = np.argwhere(distances == minimum).flatten()\n",
    "# Update 95270\n",
    "sdrs[95270,95270] = 0\n",
    "sdrs[95270,mapping] = 1\n",
    "col_map[95270] = mapping\n",
    "col_map[95269] = mapping\n",
    "# Update SDRs using 95270 as feature (this includes 95269)\n",
    "r = np.argwhere(sdrs[:,index] == 1).flatten()\n",
    "for row in r:\n",
    "    sdrs[row,mapping] = 1\n",
    "# Remove index as feature\n",
    "sdrs[:,index] = 0\n",
    "sdrs = coo_matrix(sdrs)\n",
    "features,leaves = get_features_leaves(sdrs)"
   ]
  },
  {
   "cell_type": "code",
   "execution_count": 51,
   "metadata": {
    "collapsed": false
   },
   "outputs": [
    {
     "name": "stdout",
     "output_type": "stream",
     "text": [
      "0 features to delete\n",
      "2 features to change\n",
      "[95269 95270]\n"
     ]
    }
   ],
   "source": [
    "todelete = np.array(list(set(features).intersection(leaves)))\n",
    "print(len(todelete), \"features to delete\")\n",
    "tochange = np.array(list(set(features).difference(todelete)))\n",
    "print(len(tochange), \"features to change\")\n",
    "print(tochange)"
   ]
  },
  {
   "cell_type": "code",
   "execution_count": null,
   "metadata": {
    "collapsed": false
   },
   "outputs": [],
   "source": [
    "# Manually update rows 95269 and 95270\n",
    "sdrs = sdrs.toarray()\n",
    "sdrs[tochange,:] = 0\n",
    "sdrs = coo_matrix(sdrs)\n",
    "features,leaves = get_features_leaves(sdrs)\n",
    "todelete = np.array(list(set(features).intersection(leaves)))\n",
    "print(len(todelete), \"features to delete\")\n",
    "tochange = np.array(list(set(features).difference(todelete)))\n",
    "print(len(tochange), \"features to change\")\n",
    "print(tochange)"
   ]
  },
  {
   "cell_type": "markdown",
   "metadata": {},
   "source": [
    "# Checkpoint"
   ]
  },
  {
   "cell_type": "code",
   "execution_count": null,
   "metadata": {
    "collapsed": true
   },
   "outputs": [],
   "source": [
    "# Zero features to delete\n",
    "# Zero features to change\n",
    "def load_new():\n",
    "    rows = np.fromfile('./new_rows.bin', dtype=np.uint32)\n",
    "    cols = np.fromfile('./new_cols.bin', dtype=np.uint32)\n",
    "    sdrs = coo_matrix((np.ones(len(rows), dtype=np.int8), (rows, cols)), shape=(117791,117791))\n",
    "    return sdrs\n",
    "\n",
    "def get_features_leaves(sdrs):\n",
    "    \"\"\"\n",
    "    Find features and leaves of SDR matrix\n",
    "    :param sdrs: sparse matrix (See scipy.sparse)\n",
    "    :return: (tuple) indices of features, indices of leaves\n",
    "    \"\"\"\n",
    "    lengths = sdrs.sum(axis=1).getA1()\n",
    "    counts = sdrs.sum(axis=0).getA1()\n",
    "    features = np.argwhere(lengths==1).flatten()\n",
    "    leaves = np.argwhere(counts==1).flatten()\n",
    "    return features,leaves\n",
    "\n",
    "sdrs = load_new()\n",
    "features,leaves = get_features_leaves(sdrs)"
   ]
  },
  {
   "cell_type": "code",
   "execution_count": 58,
   "metadata": {
    "collapsed": false
   },
   "outputs": [
    {
     "data": {
      "text/plain": [
       "56427"
      ]
     },
     "execution_count": 58,
     "metadata": {},
     "output_type": "execute_result"
    }
   ],
   "source": [
    "\"\"\"TRANSFER IPYNB, ROWS, COLS, LEAVES, DISTANCE.CPP TO AWS EC2 AND COMPUTE THERE\"\"\"\n",
    "len(leaves)\n",
    "# Columns still represent SDRs so...\n",
    "# Take ids, get SDR rows, compute distance matrix\n",
    "# Take min distances by id\n",
    "# Find min of min distances\n",
    "# Remap SDR with nearest neighbors\n",
    "# Repeat steps until 0 leaves"
   ]
  },
  {
   "cell_type": "code",
   "execution_count": null,
   "metadata": {
    "collapsed": false
   },
   "outputs": [],
   "source": [
    "indices = zip(sdrs.row,sdrs.col)\n",
    "new_indices = []\n",
    "for i, index in enumerate(indices):\n",
    "    if index[0] in features:\n",
    "        continue\n",
    "    else:\n",
    "        new_indices.append(index)\n",
    "rows,cols = zip(*new_indices)\n",
    "rows = list(rows)\n",
    "cols = list(cols)\n",
    "for sdr in tochange:\n",
    "    new_ON = col_map[sdr]\n",
    "    if new_ON is None:\n",
    "        continue\n",
    "    add_rows = [sdr]*len(new_ON)\n",
    "    rows.extend(add_rows)\n",
    "    cols.extend(new_ON)"
   ]
  },
  {
   "cell_type": "code",
   "execution_count": null,
   "metadata": {
    "collapsed": false
   },
   "outputs": [],
   "source": [
    "sdrs = coo_matrix((np.ones(len(rows), dtype=np.int8), (rows,cols)), shape=(117791,117791))\n",
    "lengths = sdrs.sum(axis=1).getA1()\n",
    "counts = sdrs.sum(axis=0).getA1()\n",
    "features = np.argwhere(lengths==1).flatten()\n",
    "leaves = np.argwhere(counts==1).flatten()"
   ]
  },
  {
   "cell_type": "code",
   "execution_count": null,
   "metadata": {
    "collapsed": false
   },
   "outputs": [],
   "source": [
    "np.sum(lengths==1)"
   ]
  },
  {
   "cell_type": "code",
   "execution_count": null,
   "metadata": {
    "collapsed": false
   },
   "outputs": [],
   "source": [
    "#sdrs = sdrs.toarray()\n",
    "l = np.sum(sdrs, axis=1)\n",
    "np.argwhere(l==1).flatten()"
   ]
  },
  {
   "cell_type": "markdown",
   "metadata": {},
   "source": [
    "# Break"
   ]
  },
  {
   "cell_type": "code",
   "execution_count": null,
   "metadata": {
    "collapsed": true
   },
   "outputs": [],
   "source": [
    "torelocate = np.fromfile('./torelocate.bin', dtype=np.uint32)\n",
    "dmatrix = np.fromfile('./distances.bin', dtype=np.float64)\n",
    "dmatrix = dmatrix.reshape((len(torelocate),-1))"
   ]
  },
  {
   "cell_type": "code",
   "execution_count": null,
   "metadata": {
    "collapsed": false
   },
   "outputs": [],
   "source": [
    "sims = [np.sum(dmatrix[x,:] < 1.0)-1 for x in range(dmatrix.shape[0])]\n",
    "sorts = [np.argsort(dmatrix[x,:])[1:257] for x in range(dmatrix.shape[0])]\n",
    "d = [dmatrix[x,sorts[x]] for x in range(dmatrix.shape[0])]\n",
    "d = np.array(d)[:,1:]"
   ]
  },
  {
   "cell_type": "code",
   "execution_count": null,
   "metadata": {
    "collapsed": false
   },
   "outputs": [],
   "source": [
    "comb = np.array(sorts)[:,1:101]\n",
    "check = list(set(torelocate.reshape(-1)).intersection(comb.reshape(-1)))\n",
    "len(check)"
   ]
  },
  {
   "cell_type": "code",
   "execution_count": null,
   "metadata": {
    "collapsed": false
   },
   "outputs": [],
   "source": [
    "torelocate"
   ]
  },
  {
   "cell_type": "code",
   "execution_count": null,
   "metadata": {
    "collapsed": false,
    "scrolled": true
   },
   "outputs": [],
   "source": [
    "sorts = np.array(sorts).tolist()\n",
    "for i, s in enumerate(sorts):\n",
    "    for r in torelocate:\n",
    "        if r in sorts[i]:\n",
    "            sorts[i].remove(r)"
   ]
  },
  {
   "cell_type": "code",
   "execution_count": null,
   "metadata": {
    "collapsed": false
   },
   "outputs": [],
   "source": [
    "with open('./mapping.json','r') as fi:\n",
    "    mapping = json.load(fi)\n",
    "\n",
    "for i, loc in enumerate(torelocate):\n",
    "    mapping[loc] = sorts[i]"
   ]
  },
  {
   "cell_type": "code",
   "execution_count": null,
   "metadata": {
    "collapsed": false,
    "scrolled": true
   },
   "outputs": [],
   "source": [
    "[np.sum(dmatrix[x,:] < 0.075)-1 for x in range(dmatrix.shape[0])]"
   ]
  },
  {
   "cell_type": "code",
   "execution_count": null,
   "metadata": {
    "collapsed": false
   },
   "outputs": [],
   "source": [
    "lengths = np.fromfile('./sdr_lengths',dtype=np.uint64)\n",
    "lengths = lengths.astype(np.uint16)"
   ]
  },
  {
   "cell_type": "code",
   "execution_count": null,
   "metadata": {
    "collapsed": true
   },
   "outputs": [],
   "source": [
    "rows = np.fromfile('./rows',dtype=np.uint32)\n",
    "cols = np.fromfile('./cols',dtype=np.uint32)\n",
    "sdrs = coo_matrix((np.ones(len(rows),dtype=np.uint8), (rows,cols-1)), shape=(117791,117791))\n",
    "del rows\n",
    "del cols"
   ]
  },
  {
   "cell_type": "code",
   "execution_count": null,
   "metadata": {
    "collapsed": true
   },
   "outputs": [],
   "source": [
    "counts = np.array(sdrs.sum(axis=0).tolist()[0])\n",
    "singles = np.argwhere(counts==1).flatten()"
   ]
  },
  {
   "cell_type": "code",
   "execution_count": null,
   "metadata": {
    "collapsed": false
   },
   "outputs": [],
   "source": [
    "solos = np.argwhere(lengths==1).flatten()"
   ]
  },
  {
   "cell_type": "code",
   "execution_count": null,
   "metadata": {
    "collapsed": false
   },
   "outputs": [],
   "source": [
    "solos = set(solos.tolist())\n",
    "singles = set(singles.tolist())\n",
    "todelete = np.array(list(solos.intersection(singles)))\n",
    "todelete"
   ]
  },
  {
   "cell_type": "code",
   "execution_count": null,
   "metadata": {
    "collapsed": false
   },
   "outputs": [],
   "source": [
    "print(len(singles))\n",
    "print(len(solos))\n",
    "counts"
   ]
  },
  {
   "cell_type": "code",
   "execution_count": null,
   "metadata": {
    "collapsed": false
   },
   "outputs": [],
   "source": [
    "mapping = {}\n",
    "val = 0\n",
    "for i in range(117791):\n",
    "    if i not in todelete:\n",
    "        mapping[i] = val\n",
    "        val += 1\n",
    "    else:\n",
    "        mapping[i] = None"
   ]
  },
  {
   "cell_type": "code",
   "execution_count": null,
   "metadata": {
    "collapsed": true
   },
   "outputs": [],
   "source": [
    "import json\n",
    "with open('./mapping.json', 'w') as fo:\n",
    "    json.dump(mapping, fo)"
   ]
  },
  {
   "cell_type": "code",
   "execution_count": null,
   "metadata": {
    "collapsed": false
   },
   "outputs": [],
   "source": [
    "number = 0\n",
    "for key,val in mapping.items():\n",
    "    if val is not None:\n",
    "        number += 1\n",
    "number"
   ]
  },
  {
   "cell_type": "code",
   "execution_count": null,
   "metadata": {
    "collapsed": false
   },
   "outputs": [],
   "source": [
    "rows = np.fromfile('./rows',dtype=np.uint32)\n",
    "cols = np.fromfile('./cols',dtype=np.uint32)\n",
    "r = [mapping[x] for x in rows if mapping[x] is not None]\n",
    "c = [mapping[x-1] for x in cols if mapping[x-1] is not None]\n",
    "del rows\n",
    "del cols\n",
    "sdrs = coo_matrix((np.ones(len(r),dtype=np.int8), (r,c)), shape=(number,number))\n",
    "del r\n",
    "del c"
   ]
  },
  {
   "cell_type": "code",
   "execution_count": null,
   "metadata": {
    "collapsed": false
   },
   "outputs": [],
   "source": [
    "lengths = np.array(sdrs.sum(axis=1).flatten().tolist()[0])\n",
    "solos = np.argwhere(lengths==1).flatten()\n",
    "counts = np.array(sdrs.sum(axis=0).tolist()[0])\n",
    "singles = np.argwhere(counts==1).flatten()\n",
    "singles"
   ]
  },
  {
   "cell_type": "code",
   "execution_count": null,
   "metadata": {
    "collapsed": false
   },
   "outputs": [],
   "source": [
    "torelocate = np.argwhere(lengths==1).flatten()"
   ]
  },
  {
   "cell_type": "code",
   "execution_count": null,
   "metadata": {
    "collapsed": true
   },
   "outputs": [],
   "source": [
    "sdrs = sdrs.toarray()"
   ]
  },
  {
   "cell_type": "code",
   "execution_count": null,
   "metadata": {
    "collapsed": false,
    "scrolled": false
   },
   "outputs": [],
   "source": [
    "\n",
    "\n",
    "dmatrix = []\n",
    "for x in torelocate:\n",
    "    a = sdrs[x,:]\n",
    "    #a = sdrs.getrow(x).toarray().reshape((117622,))\n",
    "    distances = []\n",
    "    for i in range(117622):\n",
    "        #print(\"\\r%d: %d\" % (x,i))\n",
    "        sys.stdout.write(\"\\r%d: %d\" % (x,i))\n",
    "        #b = sdrs.getrow(i).toarray().reshape((117622,))\n",
    "        b = sdrs[i,:]\n",
    "        distances.append(computeDistance(a,b))\n",
    "    dmatrix.append(distances)\n",
    "dmatrix = np.array(dmatrix)"
   ]
  },
  {
   "cell_type": "code",
   "execution_count": null,
   "metadata": {
    "collapsed": false
   },
   "outputs": [],
   "source": []
  },
  {
   "cell_type": "code",
   "execution_count": null,
   "metadata": {
    "collapsed": false
   },
   "outputs": [],
   "source": [
    "one = sdrs.getcol(0).toarray().reshape((117791,))\n",
    "two = sdrs.getcol(1).toarray().reshape((117791,))"
   ]
  },
  {
   "cell_type": "code",
   "execution_count": null,
   "metadata": {
    "collapsed": false
   },
   "outputs": [],
   "source": [
    "co = np.array([one,two])\n",
    "co.shape"
   ]
  },
  {
   "cell_type": "code",
   "execution_count": null,
   "metadata": {
    "collapsed": false
   },
   "outputs": [],
   "source": [
    "print(np.var(one))\n",
    "print(np.var(np.ceil(one)))"
   ]
  },
  {
   "cell_type": "code",
   "execution_count": null,
   "metadata": {
    "collapsed": true
   },
   "outputs": [],
   "source": []
  }
 ],
 "metadata": {
  "anaconda-cloud": {},
  "kernelspec": {
   "display_name": "Python 3",
   "language": "python",
   "name": "python3"
  },
  "language_info": {
   "codemirror_mode": {
    "name": "ipython",
    "version": 3
   },
   "file_extension": ".py",
   "mimetype": "text/x-python",
   "name": "python",
   "nbconvert_exporter": "python",
   "pygments_lexer": "ipython3",
   "version": "3.5.2"
  }
 },
 "nbformat": 4,
 "nbformat_minor": 1
}
